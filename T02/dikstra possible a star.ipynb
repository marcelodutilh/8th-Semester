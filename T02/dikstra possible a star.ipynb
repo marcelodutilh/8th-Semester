{
 "cells": [
  {
   "cell_type": "code",
   "execution_count": 12,
   "metadata": {},
   "outputs": [
    {
     "data": {
      "text/plain": [
       "['Bastiland', 'Hanslandia', 'Chile']"
      ]
     },
     "execution_count": 12,
     "metadata": {},
     "output_type": "execute_result"
    }
   ],
   "source": [
    "start = \"Bastiland\"\n",
    "end = \"Chile\"\n",
    "graph = {'Bastiland': {'Peru': 1, 'Bolivia': 1, 'Hanslandia': 1}, 'Paraguay': {'Suriname': 1, 'Hanslandia': 1, 'Uruguay': 1}, 'Peru': {'Laquebradelaji': 1, 'Bolivia': 1, 'Bastiland': 1}, 'Chile': {'Hanslandia': 1, 'Uruguay': 1, 'UvuvwevweOnyetenyevweUgwembubwemOssas': 1}, 'NotUSA': {'Mexico': 1, 'Bolivia': 1, 'Henryboysnia': 1, 'Fantasilandia': 1, 'USA': 1}, 'Venezuela': {'Fantasilandia': 1, 'Laquebradelaji': 1, 'Suriname': 1}, 'USA': {'NotUSA': 1, 'Argentina': 1, 'Fantasilandia': 1}, 'Suriname': {'Venezuela': 1, 'Bolivia': 1, 'Paraguay': 1}, 'Inglaterra': {'Dondeeldiabloperdioelponcho': 1, 'Laquebradelaji': 1, 'Henryboysnia': 1}, 'Mexico': {'Happyland': 1, 'Laquebradelaji': 1, 'NotUSA': 1}, 'Fantasilandia': {'NotUSA': 1, 'USA': 1, 'Venezuela': 1}, 'Happyland': {'UvuvwevweOnyetenyevweUgwembubwemOssas': 1, 'Bolivia': 1, 'Mexico': 1}, 'Henryboysnia': {'NotUSA': 1, 'Inglaterra': 1, 'Argentina': 1}, 'Hanslandia': {'Bastiland': 1, 'UvuvwevweOnyetenyevweUgwembubwemOssas': 1, 'Laquebradelaji': 1, 'Paraguay': 1, 'Chile': 1}, 'UvuvwevweOnyetenyevweUgwembubwemOssas': {'Chile': 1, 'Hanslandia': 1, 'Happyland': 1}, 'Dondeeldiabloperdioelponcho': {'Laquebradelaji': 1, 'Bolivia': 1, 'Inglaterra': 1}, 'Laquebradelaji': {'Mexico': 1, 'Uruguay': 1, 'Venezuela': 1, 'Hanslandia': 1, 'Peru': 1, 'Inglaterra': 1, 'Dondeeldiabloperdioelponcho': 1}, 'Bolivia': {'NotUSA': 1, 'Argentina': 1, 'Dondeeldiabloperdioelponcho': 1, 'Suriname': 1, 'Happyland': 1, 'Bastiland': 1, 'Peru': 1}, 'Uruguay': {'Paraguay': 1, 'Chile': 1, 'Laquebradelaji': 1}, 'Argentina': {'Henryboysnia': 1, 'USA': 1, 'Bolivia': 1}}\n",
    "\n",
    "def get_shortest_path(weighted_graph, start, end):\n",
    "    \"\"\"\n",
    "    Calculate the shortest path for a directed weighted graph.\n",
    "\n",
    "    Node can be virtually any hashable datatype.\n",
    "\n",
    "    :param start: starting node\n",
    "    :param end: ending node\n",
    "    :param weighted_graph: {\"node1\": {\"node2\": \"weight\", ...}, ...}\n",
    "    :return: [\"START\", ... nodes between ..., \"END\"] or None, if there is no\n",
    "             path\n",
    "    \"\"\"\n",
    "\n",
    "    # We always need to visit the start\n",
    "    nodes_to_visit = {start}\n",
    "    visited_nodes = set()\n",
    "    # Distance from start to start is 0\n",
    "    distance_from_start = {start: 0}\n",
    "    tentative_parents = {}\n",
    "\n",
    "    while nodes_to_visit:\n",
    "        # The next node should be the one with the smallest weight\n",
    "        current = min(\n",
    "            [(distance_from_start[node], node) for node in nodes_to_visit])[1]\n",
    "\n",
    "        # The end was reached\n",
    "        if current == end:\n",
    "            break\n",
    "\n",
    "        nodes_to_visit.discard(current)\n",
    "        visited_nodes.add(current)\n",
    "\n",
    "        edges = weighted_graph[current]\n",
    "        unvisited_neighbours = set(edges).difference(visited_nodes)\n",
    "        for neighbour in unvisited_neighbours:\n",
    "            neighbour_distance = distance_from_start[current] + \\\n",
    "                                 edges[neighbour]\n",
    "            if neighbour_distance < distance_from_start.get(neighbour,\n",
    "                                                            float('inf')):\n",
    "                distance_from_start[neighbour] = neighbour_distance\n",
    "                tentative_parents[neighbour] = current\n",
    "                nodes_to_visit.add(neighbour)\n",
    "\n",
    "    return _deconstruct_path(tentative_parents, end)\n",
    "\n",
    "\n",
    "def _deconstruct_path(tentative_parents, end):\n",
    "    if end not in tentative_parents:\n",
    "        return None\n",
    "    cursor = end\n",
    "    path = []\n",
    "    while cursor:\n",
    "        path.append(cursor)\n",
    "        cursor = tentative_parents.get(cursor)\n",
    "    return list(reversed(path))\n",
    "\n",
    "get_shortest_path(graph,start,end)"
   ]
  },
  {
   "cell_type": "code",
   "execution_count": null,
   "metadata": {
    "collapsed": true
   },
   "outputs": [],
   "source": []
  }
 ],
 "metadata": {
  "kernelspec": {
   "display_name": "Python 3",
   "language": "python",
   "name": "python3"
  },
  "language_info": {
   "codemirror_mode": {
    "name": "ipython",
    "version": 3
   },
   "file_extension": ".py",
   "mimetype": "text/x-python",
   "name": "python",
   "nbconvert_exporter": "python",
   "pygments_lexer": "ipython3",
   "version": "3.6.2"
  }
 },
 "nbformat": 4,
 "nbformat_minor": 2
}
